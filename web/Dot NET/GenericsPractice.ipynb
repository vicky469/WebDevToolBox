{
 "cells": [
  {
   "cell_type": "markdown",
   "metadata": {},
   "source": [
    "### IList\n",
    "\n",
    "The IList<T> interface is used in C# when you want to work with a collection of items that can be accessed by index. It provides functionality to add, remove, and find items in a collection.  \n",
    "\n",
    "The reason to use IList<T> instead of List<T> in method signatures is to make your code more flexible and less tightly coupled to a specific implementation. By using IList<T>, you're saying \"I need a list-like collection, but I don't care about the specific implementation.\" This allows you to change the underlying implementation without changing the method signature.  \n",
    "\n",
    "For example, you might start with a List<T>, but later decide to use a Collection<T> or a custom class that implements IList<T>. As long as the new class implements IList<T>, you won't need to change the method signature or any code that calls the method. "
   ]
  },
  {
   "cell_type": "code",
   "execution_count": 5,
   "metadata": {
    "dotnet_interactive": {
     "language": "csharp"
    },
    "polyglot_notebook": {
     "kernelName": "csharp"
    },
    "vscode": {
     "languageId": "polyglot-notebook"
    }
   },
   "outputs": [
    {
     "name": "stdout",
     "output_type": "stream",
     "text": [
      "1\n",
      "2\n",
      "3\n",
      "4\n",
      "5\n",
      "6\n"
     ]
    }
   ],
   "source": [
    "using System.Collections.Generic;\n",
    "using System.Collections.ObjectModel; \n",
    "public void PrintList(IList<int> list)\n",
    "{\n",
    "    foreach (var item in list)\n",
    "    {\n",
    "        Console.WriteLine(item);\n",
    "    }\n",
    "}\n",
    "\n",
    "public void TestPrintList()\n",
    "{\n",
    "    IList<int> list = new List<int> { 1, 2, 3 };\n",
    "    PrintList(list);\n",
    "\n",
    "    IList<int> collection = new Collection<int> { 4, 5, 6 };\n",
    "    PrintList(collection);\n",
    "}\n",
    "\n",
    "TestPrintList();"
   ]
  },
  {
   "cell_type": "markdown",
   "metadata": {},
   "source": [
    "###  IList<t> vs IEnumerable\n",
    "\n",
    "- IEnumerable<T> is the most basic interface that any collection can implement. \n",
    "  -  It provides a simple way to iterate over a collection, without providing any way to modify the collection or access specific elements by index. \n",
    "  -  This makes it suitable for situations where you only need to read the items in a collection, such as in a foreach loop."
   ]
  }
 ],
 "metadata": {
  "kernelspec": {
   "display_name": ".NET (C#)",
   "language": "C#",
   "name": ".net-csharp"
  },
  "language_info": {
   "name": "python"
  },
  "polyglot_notebook": {
   "kernelInfo": {
    "defaultKernelName": "csharp",
    "items": [
     {
      "aliases": [],
      "name": "csharp"
     }
    ]
   }
  }
 },
 "nbformat": 4,
 "nbformat_minor": 2
}
